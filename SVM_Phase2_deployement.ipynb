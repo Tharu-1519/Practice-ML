{
 "cells": [
  {
   "cell_type": "code",
   "execution_count": 2,
   "id": "be9e0130-e199-49cb-9ebe-6b9c92aeb7dc",
   "metadata": {},
   "outputs": [],
   "source": [
    "import pickle"
   ]
  },
  {
   "cell_type": "code",
   "execution_count": 3,
   "id": "0c5a60a5-524c-40dc-8715-a4229ff79159",
   "metadata": {},
   "outputs": [
    {
     "data": {
      "text/plain": [
       "array([108736.75412569])"
      ]
     },
     "execution_count": 3,
     "metadata": {},
     "output_type": "execute_result"
    }
   ],
   "source": [
    "loaded_model=pickle.load(open(\"finalized_model_SVM.asv\",'rb'))\n",
    "result=loaded_model.predict([[3424,2134,134,0,1]])\n",
    "result"
   ]
  },
  {
   "cell_type": "code",
   "execution_count": null,
   "id": "cc97759b-f143-4a61-af0c-3c43362f0863",
   "metadata": {},
   "outputs": [],
   "source": []
  }
 ],
 "metadata": {
  "kernelspec": {
   "display_name": "Python 3 (ipykernel)",
   "language": "python",
   "name": "python3"
  },
  "language_info": {
   "codemirror_mode": {
    "name": "ipython",
    "version": 3
   },
   "file_extension": ".py",
   "mimetype": "text/x-python",
   "name": "python",
   "nbconvert_exporter": "python",
   "pygments_lexer": "ipython3",
   "version": "3.12.4"
  }
 },
 "nbformat": 4,
 "nbformat_minor": 5
}
